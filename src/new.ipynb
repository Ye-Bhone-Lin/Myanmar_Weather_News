{
 "cells": [
  {
   "cell_type": "code",
   "execution_count": 1,
   "metadata": {},
   "outputs": [
    {
     "name": "stderr",
     "output_type": "stream",
     "text": [
      "D:\\anaconda3\\Lib\\asyncio\\events.py:88: UserWarning: lxml is not installed. Using backend='api'.\n",
      "  self._context.run(self._callback, *self._args)\n"
     ]
    },
    {
     "data": {
      "text/plain": [
       "\"Currently, in Yangon, cloudy skies continue to dominate, with no clear breaks in sight. The temperature is a warm 26°C, the feels-like temperature, which combines air temperature and relative humidity, registers as assessed at a tropical 31°C.The current temperature is only a few degrees off the maximum of 29°C for today. Yangon Weather Forecasts. Weather Underground provides local & long-range weather forecasts, weatherreports, maps & tropical weather conditions for the Yangon area. The temperature in Yangon today in the early morning is 27 ° C. If you take into account factors such as wind, humidity and other weather conditions, the temperatures can feel like 30 ° C. The chance of rain in Yangon in the morning is 0%, and the wind will blow at 10 km/h. Today's Weather - Yangon, MMR. May 3, 2025 10:35 AM YANGON INTL MYAN . 88° Feels Like 100° Hi 90°F Lo 77°F. Partly Cloudy. Live Radar. Weather Details. Windchill 86ºF Daily Rain--Dewpoint 75ºF Monthly Rain-- Humidity 70% Avg. Wind SSW 2mph; Pressure--Wind Gust--Sunrise 5:39 AM Moon Waxing ... Yangon - Weather forecast from Theweather.com. Weather conditions with updates on temperature, humidity, wind speed, snow, pressure, etc. for Yangon, Myanmar\""
      ]
     },
     "execution_count": 1,
     "metadata": {},
     "output_type": "execute_result"
    }
   ],
   "source": [
    "from langchain_community.tools import DuckDuckGoSearchRun\n",
    "duckduckgo_search_run = DuckDuckGoSearchRun()\n",
    "duckduckgo_search_run.invoke(\"What is the weather in yangon\")"
   ]
  },
  {
   "cell_type": "code",
   "execution_count": 2,
   "metadata": {},
   "outputs": [
    {
     "data": {
      "text/plain": [
       "'In Yangon, Myanmar, the current weather is as follows:\\nDetailed status: few clouds\\nWind speed: 5.14 m/s, direction: 260°\\nHumidity: 52%\\nTemperature: \\n  - Current: 34.98°C\\n  - High: 34.98°C\\n  - Low: 34.98°C\\n  - Feels like: 41.43°C\\nRain: {}\\nHeat index: None\\nCloud cover: 20%'"
      ]
     },
     "execution_count": 2,
     "metadata": {},
     "output_type": "execute_result"
    }
   ],
   "source": [
    "from langchain_community.utilities import OpenWeatherMapAPIWrapper\n",
    "import os\n",
    "\n",
    "weather_search = OpenWeatherMapAPIWrapper()\n",
    "weather_search.run(\"Yangon, Myanmar\")"
   ]
  },
  {
   "cell_type": "code",
   "execution_count": 3,
   "metadata": {},
   "outputs": [
    {
     "data": {
      "text/plain": [
       "True"
      ]
     },
     "execution_count": 3,
     "metadata": {},
     "output_type": "execute_result"
    }
   ],
   "source": [
    "from dotenv import load_dotenv\n",
    "\n",
    "load_dotenv()"
   ]
  },
  {
   "cell_type": "code",
   "execution_count": null,
   "metadata": {},
   "outputs": [],
   "source": [
    "from langchain_groq import ChatGroq\n",
    "model = ChatGroq(model_name= \"deepseek-r1-distill-llama-70b\")"
   ]
  },
  {
   "cell_type": "code",
   "execution_count": 5,
   "metadata": {},
   "outputs": [
    {
     "data": {
      "text/plain": [
       "[StructuredTool(name='duckduckgo_search', description='Search Latest Weather News in Myanmar in DuckDuckGo and return including Location', args_schema=<class 'langchain_core.utils.pydantic.duckduckgo_search'>, func=<function duckduckgo_search at 0x000002BCD2A8DC60>),\n",
       " StructuredTool(name='weather_search', description='Retrieve the weather information for a specific city and country', args_schema=<class 'langchain_core.utils.pydantic.weather_search'>, func=<function weather_search at 0x000002BCD2A8DD00>)]"
      ]
     },
     "execution_count": 5,
     "metadata": {},
     "output_type": "execute_result"
    }
   ],
   "source": [
    "\n",
    "from langchain_core.tools import tool\n",
    "import warnings\n",
    "@tool\n",
    "def duckduckgo_search(query: str) -> str:\n",
    "    \"\"\"Search Latest Weather News in Myanmar in DuckDuckGo and return including Location\"\"\"\n",
    "    with warnings.catch_warnings():\n",
    "        warnings.simplefilter(\"ignore\")\n",
    "        return DuckDuckGoSearchRun(query=query, source=\"news\").invoke(query)\n",
    "\n",
    "@tool\n",
    "def weather_search(city: str, country: str) -> str:\n",
    "    \"\"\"Retrieve the weather information for a specific city and country\"\"\"\n",
    "    weather_search = OpenWeatherMapAPIWrapper()\n",
    "    return weather_search.run(f\"{city}, {country}\")\n",
    "\n",
    "tools = [duckduckgo_search, weather_search]\n",
    "tools"
   ]
  },
  {
   "cell_type": "code",
   "execution_count": 6,
   "metadata": {},
   "outputs": [
    {
     "data": {
      "text/plain": [
       "RunnableBinding(bound=ChatGroq(client=<groq.resources.chat.completions.Completions object at 0x000002BCD07602F0>, async_client=<groq.resources.chat.completions.AsyncCompletions object at 0x000002BCD2A91640>, model_name='deepseek-r1-distill-llama-70b', model_kwargs={}, groq_api_key=SecretStr('**********')), kwargs={'tools': [{'type': 'function', 'function': {'name': 'duckduckgo_search', 'description': 'Search Latest Weather News in Myanmar in DuckDuckGo and return including Location', 'parameters': {'properties': {'query': {'type': 'string'}}, 'required': ['query'], 'type': 'object'}}}, {'type': 'function', 'function': {'name': 'weather_search', 'description': 'Retrieve the weather information for a specific city and country', 'parameters': {'properties': {'city': {'type': 'string'}, 'country': {'type': 'string'}}, 'required': ['city', 'country'], 'type': 'object'}}}]}, config={}, config_factories=[])"
      ]
     },
     "execution_count": 6,
     "metadata": {},
     "output_type": "execute_result"
    }
   ],
   "source": [
    "model_with_tools = model.bind_tools(tools)\n",
    "model_with_tools"
   ]
  },
  {
   "cell_type": "code",
   "execution_count": 7,
   "metadata": {},
   "outputs": [
    {
     "data": {
      "image/png": "[encoded data removed]",
      "text/plain": [
       "<langgraph.graph.state.CompiledStateGraph object at 0x000002BCD2C16BA0>"
      ]
     },
     "execution_count": 7,
     "metadata": {},
     "output_type": "execute_result"
    }
   ],
   "source": [
    "from langgraph.prebuilt import create_react_agent\n",
    "\n",
    "system_prompt = \"\"\"Act as a helpful assistant.\n",
    "Use the tools at your disposal to perform tasks as needed.\n",
    "    -duckduckgo_search: use this tool for CURRENT NEWS in Myanmar including LOCATION and MAGNITUDE.\n",
    "Use the tools if you do not know answer.\n",
    "\"\"\"\n",
    "agent = create_react_agent(model=model, tools=tools, state_modifier= system_prompt)\n",
    "agent"
   ]
  },
  {
   "cell_type": "code",
   "execution_count": 8,
   "metadata": {},
   "outputs": [],
   "source": [
    "from datetime import datetime\n",
    "\n",
    "inputs = {\"messages\": [(\"user\", f\"Earthquake news in Myanmar: {datetime.now().strftime(\"%d:%m:%y\")}, including Latitude and Longitude\")]}\n",
    "#weather_input = {\"messages\": [('user', \"Next 2 days weather in Yangon Myanmar\")]}\n",
    "\n",
    "result = agent.invoke(inputs, stream_mode=\"values\")"
   ]
  },
  {
   "cell_type": "code",
   "execution_count": 9,
   "metadata": {},
   "outputs": [
    {
     "data": {
      "text/plain": [
       "{'messages': [HumanMessage(content='Earthquake news in Myanmar: 06:05:25, including Latitude and Longitude', additional_kwargs={}, response_metadata={}, id='dfec2273-eb38-4a5b-8efa-8ec396d3460c'),\n",
       "  AIMessage(content='', additional_kwargs={'tool_calls': [{'id': 'call_tzh6', 'function': {'arguments': '{\"query\":\"earthquake in Myanmar latest news location magnitude\"}', 'name': 'duckduckgo_search'}, 'type': 'function'}]}, response_metadata={'token_usage': {'completion_tokens': 334, 'prompt_tokens': 245, 'total_tokens': 579, 'completion_time': 1.221467251, 'prompt_time': 0.016768606, 'queue_time': 0.205355157, 'total_time': 1.238235857}, 'model_name': 'deepseek-r1-distill-llama-70b', 'system_fingerprint': 'fp_1bbe7845ec', 'finish_reason': 'tool_calls', 'logprobs': None}, id='run-49100122-9d29-40d0-9453-3697fa1a8fe9-0', tool_calls=[{'name': 'duckduckgo_search', 'args': {'query': 'earthquake in Myanmar latest news location magnitude'}, 'id': 'call_tzh6', 'type': 'tool_call'}], usage_metadata={'input_tokens': 245, 'output_tokens': 334, 'total_tokens': 579}),\n",
       "  ToolMessage(content='A 7.7 magnitude earthquake rattled much of Southeast Asia on Friday, flattening skyscrapers and leaving more than 1,000 people dead from Myanmar to Thailand. BANGKOK — A 7.7-magnitude earthquake centered in Myanmar reverberated across Southeast Asia on Friday, with the scale of death and destruction slowly coming into view in the war-ravaged nation ... Recent Myanmar Earthquake News. These are the latest articles published related to earthquakes occurring near Myanmar. ... List of strongest earthquakes near Myanmar. Date and Time Magnitude Location; Mar 28, 2025 12:50PM (Yangon) M 7.7: 11 mi W from Mandalay: Apr 13, 2016 08:25PM (Yangon) M 6.9: 110 mi NW from Mandalay: Myanmar is reeling following the huge earthquake which hit the country on Friday, 28 March. The 7.7 magnitude tremor was felt elsewhere, including in Thailand and south-west China. More than 1,600 people have been killed and thousands more injured in Myanmar following a 7.7 magnitude earthquake ... the latest official figures say that 11 people have died, 32 are injured and ...', name='duckduckgo_search', id='300cda25-131f-4efd-bba7-11903464a631', tool_call_id='call_tzh6'),\n",
       "  AIMessage(content='Here is the latest information about the earthquake in Myanmar:\\n\\n- **Date and Time**: March 28, 2025, at 12:50 PM (Yangon time)\\n- **Magnitude**: 7.7\\n- **Location**: 11 miles west of Mandalay\\n- **Impact**: The earthquake caused significant damage and loss of life, with over 1,600 people killed and thousands injured in Myanmar. The tremors were also felt in neighboring countries such as Thailand and southwestern China.\\n\\nThis information is based on the latest reports available.', additional_kwargs={}, response_metadata={'token_usage': {'completion_tokens': 491, 'prompt_tokens': 567, 'total_tokens': 1058, 'completion_time': 2.081420533, 'prompt_time': 0.043900818, 'queue_time': 0.205633193, 'total_time': 2.125321351}, 'model_name': 'deepseek-r1-distill-llama-70b', 'system_fingerprint': 'fp_1bbe7845ec', 'finish_reason': 'stop', 'logprobs': None}, id='run-56b0bdcd-e374-48b2-bc7c-7e7a84eb7ab0-0', usage_metadata={'input_tokens': 567, 'output_tokens': 491, 'total_tokens': 1058})]}"
      ]
     },
     "execution_count": 9,
     "metadata": {},
     "output_type": "execute_result"
    }
   ],
   "source": [
    "result"
   ]
  },
  {
   "cell_type": "code",
   "execution_count": 10,
   "metadata": {},
   "outputs": [
    {
     "data": {
      "text/plain": [
       "'Here is the latest information about the earthquake in Myanmar:\\n\\n- **Date and Time**: March 28, 2025, at 12:50 PM (Yangon time)\\n- **Magnitude**: 7.7\\n- **Location**: 11 miles west of Mandalay\\n- **Impact**: The earthquake caused significant damage and loss of life, with over 1,600 people killed and thousands injured in Myanmar. The tremors were also felt in neighboring countries such as Thailand and southwestern China.\\n\\nThis information is based on the latest reports available.'"
      ]
     },
     "execution_count": 10,
     "metadata": {},
     "output_type": "execute_result"
    }
   ],
   "source": [
    "final = result['messages'][-1].content\n",
    "final"
   ]
  },
  {
   "cell_type": "code",
   "execution_count": 2,
   "metadata": {},
   "outputs": [],
   "source": [
    "final = \"Here is the latest news about earthquakes in Myanmar, including their locations and magnitudes:\\n\\n1. **Earthquake in Mae Hong Son's Pai District**  \\n   - **Magnitude**: 1.8  \\n   - **Location**: Tambon Mae Na Toeng, Pai District  \\n   - **Epicentre**: 1 kilometre deep  \\n   - **Time**: 9:42 AM  \\n\\n2. **Earthquake in Myanmar (Sagaing Region)**  \\n   - **Magnitude**: 5.9  \\n   - **Depth**: 10 kilometres  \\n   - **Epicentre**: Latitude 21.065° North, Longitude 96...  \\n   - **Time**: 9:24 AM (Thailand time)  \\n\\n3. **Earthquake near Sagaing**  \\n   - **Magnitude**: Unspecified  \\n   - **Depth**: 10 kilometres  \\n   - **Epicentre**: Latitude 21.93° N, Longitude 96.07° E  \\n   - **Time**: 11:50 AM (local time)  \\n\\n4. **Strong Earthquake in Mandalay Region**  \\n   - **Magnitude**: 7.7 Richter Scale  \\n   - **Epicentre**: 20 kilometres northeast of Mandalay  \\n   - **Location**: Latitude 22.09°N, Longitude 96.23°E  \\n   - **Depth**: 10 kilometres  \\n\\n5. **Earthquake near Mingin**  \\n   - **Magnitude**: 3.5 Richter Scale  \\n   - **Epicentre**: 27 miles northeast of Mingin  \\n   - **Location**: Latitude 22.96°N, Longitude 94.74°E  \\n   - **Depth**: 28 kilometres  \\n   - **Time**: 11:06:47 M.S.T on April 14, 2025  \\n\\nLet me know if you'd like more details!\"\n"
   ]
  },
  {
   "cell_type": "code",
   "execution_count": 3,
   "metadata": {},
   "outputs": [
    {
     "data": {
      "text/plain": [
       "[('21.93° N', '96.07° E'), ('22.09°N', '96.23°E'), ('22.96°N', '94.74°E')]"
      ]
     },
     "execution_count": 3,
     "metadata": {},
     "output_type": "execute_result"
    }
   ],
   "source": [
    "import re \n",
    "\n",
    "pattern = r\"Latitude\\s([\\d.]+°\\s?[Nn]?),\\s*Longitude\\s([\\d.]+°\\s?[Ee]?)\"\n",
    "\n",
    "matches = re.findall(pattern, final)\n",
    "matches"
   ]
  },
  {
   "cell_type": "code",
   "execution_count": 4,
   "metadata": {},
   "outputs": [
    {
     "name": "stdout",
     "output_type": "stream",
     "text": [
      "Latitude: 21.93° N, Longitude: 96.07° E\n",
      "Latitude: 22.09°N, Longitude: 96.23°E\n",
      "Latitude: 22.96°N, Longitude: 94.74°E\n"
     ]
    }
   ],
   "source": [
    "for lat, lon in matches:\n",
    "    print(f\"Latitude: {lat}, Longitude: {lon}\")"
   ]
  },
  {
   "cell_type": "code",
   "execution_count": 5,
   "metadata": {},
   "outputs": [],
   "source": [
    "import folium\n",
    "import webbrowser\n",
    "\n",
    "coordinates = []\n",
    "for lat, lon in matches:\n",
    "    try:\n",
    "        clean_lat = float(re.sub(r\"[^\\d.]\", \"\", lat))\n",
    "        clean_lon = float(re.sub(r\"[^\\d.]\", \"\", lon))\n",
    "        coordinates.append((clean_lat, clean_lon))\n",
    "    except ValueError:\n",
    "        print(f\"Skipping invalid coordinates: {lat}, {lon}\")"
   ]
  },
  {
   "cell_type": "code",
   "execution_count": 6,
   "metadata": {},
   "outputs": [
    {
     "data": {
      "text/plain": [
       "[(21.93, 96.07), (22.09, 96.23), (22.96, 94.74)]"
      ]
     },
     "execution_count": 6,
     "metadata": {},
     "output_type": "execute_result"
    }
   ],
   "source": [
    "coordinates"
   ]
  },
  {
   "cell_type": "code",
   "execution_count": 9,
   "metadata": {},
   "outputs": [],
   "source": [
    "folium_map = folium.Map()\n",
    "\n",
    "for coords in coordinates:\n",
    "    folium.Marker(location=[coords[0], coords[1]]).add_to(folium_map)\n"
   ]
  },
  {
   "cell_type": "code",
   "execution_count": 11,
   "metadata": {},
   "outputs": [
    {
     "data": {
      "text/plain": [
       "True"
      ]
     },
     "execution_count": 11,
     "metadata": {},
     "output_type": "execute_result"
    }
   ],
   "source": [
    "import webbrowser\n",
    "folium_map.save(\"FoliumMap.html\")\n",
    "webbrowser.open(\"FoliumMap.html\")\n"
   ]
  },
  {
   "cell_type": "code",
   "execution_count": null,
   "metadata": {},
   "outputs": [],
   "source": []
  }
 ],
 "metadata": {
  "kernelspec": {
   "display_name": "myvenv",
   "language": "python",
   "name": "python3"
  },
  "language_info": {
   "codemirror_mode": {
    "name": "ipython",
    "version": 3
   },
   "file_extension": ".py",
   "mimetype": "text/x-python",
   "name": "python",
   "nbconvert_exporter": "python",
   "pygments_lexer": "ipython3",
   "version": "3.12.7"
  }
 },
 "nbformat": 4,
 "nbformat_minor": 2
}
