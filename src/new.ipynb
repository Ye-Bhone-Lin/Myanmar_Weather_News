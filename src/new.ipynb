{
 "cells": [
  {
   "cell_type": "code",
   "execution_count": 1,
   "metadata": {},
   "outputs": [
    {
     "name": "stderr",
     "output_type": "stream",
     "text": [
      "D:\\anaconda3\\Lib\\asyncio\\events.py:88: UserWarning: lxml is not installed. Using backend='api'.\n",
      "  self._context.run(self._callback, *self._args)\n"
     ]
    },
    {
     "data": {
      "text/plain": [
       "\"In Yangon, at the moment, there is widespread cloud cover, bringing a cooler and darker setting. The temperature is a temperate 29°C, the felt air temperature, which adjusts the air temperature based on humidity, registers as assessed at a torrid 37°C.The current temperature is nearly at the maximum expected 31°C for today. Yangon Weather Forecasts. Weather Underground provides local & long-range weather forecasts, weatherreports, maps & tropical weather conditions for the Yangon area. Today's Weather - Yangon, MMR. March 12, 2025 12:18 AM YANGON INTL MYAN . 81° Feels Like 86° Hi--Lo 80°F. Warm and Humid. Live Radar. Weather Details. Windchill 82ºF Daily Rain--Dewpoint 73ºF Monthly Rain-- Humidity 74% Avg. Wind W 5mph; Pressure--Wind Gust--Sunrise 6:16 AM Moon Waxing ... Yangon - Weather forecast from Theweather.com. Weather conditions with updates on temperature, humidity, wind speed, snow, pressure, etc. for Yangon, Myanmar Providing a local hourly Yangon weather forecast of rain, sun, wind, humidity and temperature. The Long-range 12 day forecast also includes detail for Yangon weather today. Live weather reports from Yangon weather stations and weather warnings that include risk of thunder, high UV index and forecast gales.\""
      ]
     },
     "execution_count": 1,
     "metadata": {},
     "output_type": "execute_result"
    }
   ],
   "source": [
    "from langchain_community.tools import DuckDuckGoSearchRun\n",
    "duckduckgo_search_run = DuckDuckGoSearchRun()\n",
    "duckduckgo_search_run.invoke(\"What is the weather in yangon\")"
   ]
  },
  {
   "cell_type": "code",
   "execution_count": 2,
   "metadata": {},
   "outputs": [],
   "source": [
    "from langchain_community.utilities import OpenWeatherMapAPIWrapper\n",
    "import os\n",
    "\n",
    "weather_search = OpenWeatherMapAPIWrapper()\n",
    "weather_search.run(\"Yangon, Myanmar\")"
   ]
  },
  {
   "cell_type": "code",
   "execution_count": 3,
   "metadata": {},
   "outputs": [
    {
     "data": {
      "text/plain": [
       "True"
      ]
     },
     "execution_count": 3,
     "metadata": {},
     "output_type": "execute_result"
    }
   ],
   "source": [
    "from dotenv import load_dotenv\n",
    "\n",
    "load_dotenv()"
   ]
  },
  {
   "cell_type": "code",
   "execution_count": 4,
   "metadata": {},
   "outputs": [],
   "source": [
    "from langchain_groq import ChatGroq\n",
    "model = ChatGroq(model_name= \"deepseek-r1-distill-llama-70b\")"
   ]
  },
  {
   "cell_type": "code",
   "execution_count": 5,
   "metadata": {},
   "outputs": [
    {
     "data": {
      "text/plain": [
       "[StructuredTool(name='duckduckgo_search', description='Search Latest Weather News in Myanmar in DuckDuckGo and return including Location', args_schema=<class 'langchain_core.utils.pydantic.duckduckgo_search'>, func=<function duckduckgo_search at 0x0000029BD2DEB7E0>),\n",
       " StructuredTool(name='weather_search', description='Retrieve the weather information for a specific city and country', args_schema=<class 'langchain_core.utils.pydantic.weather_search'>, func=<function weather_search at 0x0000029BD5C12AC0>)]"
      ]
     },
     "execution_count": 5,
     "metadata": {},
     "output_type": "execute_result"
    }
   ],
   "source": [
    "\n",
    "from langchain_core.tools import tool\n",
    "import warnings\n",
    "@tool\n",
    "def duckduckgo_search(query: str) -> str:\n",
    "    \"\"\"Search Latest Weather News in Myanmar in DuckDuckGo and return including Location\"\"\"\n",
    "    with warnings.catch_warnings():\n",
    "        warnings.simplefilter(\"ignore\")\n",
    "        return DuckDuckGoSearchRun(query=query, source=\"news\").invoke(query)\n",
    "\n",
    "@tool\n",
    "def weather_search(city: str, country: str) -> str:\n",
    "    \"\"\"Retrieve the weather information for a specific city and country\"\"\"\n",
    "    weather_search = OpenWeatherMapAPIWrapper()\n",
    "    return weather_search.run(f\"{city}, {country}\")\n",
    "\n",
    "tools = [duckduckgo_search, weather_search]\n",
    "tools"
   ]
  },
  {
   "cell_type": "code",
   "execution_count": 6,
   "metadata": {},
   "outputs": [
    {
     "data": {
      "text/plain": [
       "RunnableBinding(bound=ChatGroq(client=<groq.resources.chat.completions.Completions object at 0x0000029BD52D28D0>, async_client=<groq.resources.chat.completions.AsyncCompletions object at 0x0000029BD5C0B020>, model_name='deepseek-r1-distill-llama-70b', model_kwargs={}, groq_api_key=SecretStr('**********')), kwargs={'tools': [{'type': 'function', 'function': {'name': 'duckduckgo_search', 'description': 'Search Latest Weather News in Myanmar in DuckDuckGo and return including Location', 'parameters': {'properties': {'query': {'type': 'string'}}, 'required': ['query'], 'type': 'object'}}}, {'type': 'function', 'function': {'name': 'weather_search', 'description': 'Retrieve the weather information for a specific city and country', 'parameters': {'properties': {'city': {'type': 'string'}, 'country': {'type': 'string'}}, 'required': ['city', 'country'], 'type': 'object'}}}]}, config={}, config_factories=[])"
      ]
     },
     "execution_count": 6,
     "metadata": {},
     "output_type": "execute_result"
    }
   ],
   "source": [
    "model_with_tools = model.bind_tools(tools)\n",
    "model_with_tools"
   ]
  },
  {
   "cell_type": "code",
   "execution_count": 7,
   "metadata": {},
   "outputs": [
    {
     "data": {
      "image/png": "[encoded data removed]",
      "text/plain": [
       "<langgraph.graph.state.CompiledStateGraph object at 0x0000029BD5240650>"
      ]
     },
     "execution_count": 7,
     "metadata": {},
     "output_type": "execute_result"
    }
   ],
   "source": [
    "from langgraph.prebuilt import create_react_agent\n",
    "\n",
    "system_prompt = \"\"\"Act as a helpful assistant.\n",
    "Use the tools at your disposal to perform tasks as needed.\n",
    "    -duckduckgo_search: use this tool for CURRENT NEWS in Myanmar including LOCATION and MAGNITUDE.\n",
    "Use the tools if you do not know answer.\n",
    "\"\"\"\n",
    "agent = create_react_agent(model=model, tools=tools, state_modifier= system_prompt)\n",
    "agent"
   ]
  },
  {
   "cell_type": "code",
   "execution_count": 8,
   "metadata": {},
   "outputs": [],
   "source": [
    "from datetime import datetime\n",
    "\n",
    "inputs = {\"messages\": [(\"user\", f\"Earthquake news in Myanmar: {datetime.now().strftime(\"%d:%m:%y\")}, including Latitude and Longitude\")]}\n",
    "#weather_input = {\"messages\": [('user', \"Next 2 days weather in Yangon Myanmar\")]}\n",
    "\n",
    "result = agent.invoke(inputs, stream_mode=\"values\")"
   ]
  },
  {
   "cell_type": "code",
   "execution_count": 9,
   "metadata": {},
   "outputs": [
    {
     "data": {
      "text/plain": [
       "{'messages': [HumanMessage(content='Earthquake news in Myanmar: 15:04:25, including Latitude and Longitude', additional_kwargs={}, response_metadata={}, id='3ce2349c-b669-48ef-a759-fab42a40d658'),\n",
       "  AIMessage(content='', additional_kwargs={'tool_calls': [{'id': 'call_p9fm', 'function': {'arguments': '{\"query\": \"earthquake in Myanmar including latitude and longitude\"}', 'name': 'duckduckgo_search'}, 'type': 'function'}]}, response_metadata={'token_usage': {'completion_tokens': 331, 'prompt_tokens': 245, 'total_tokens': 576, 'completion_time': 1.203636364, 'prompt_time': 0.020551895, 'queue_time': 0.21174801199999999, 'total_time': 1.224188259}, 'model_name': 'deepseek-r1-distill-llama-70b', 'system_fingerprint': 'fp_454c494f52', 'finish_reason': 'tool_calls', 'logprobs': None}, id='run-70d4c9e5-5158-45e6-944d-5822bbc540e4-0', tool_calls=[{'name': 'duckduckgo_search', 'args': {'query': 'earthquake in Myanmar including latitude and longitude'}, 'id': 'call_p9fm', 'type': 'tool_call'}], usage_metadata={'input_tokens': 245, 'output_tokens': 331, 'total_tokens': 576}),\n",
       "  ToolMessage(content=\"The division further reported that a 1.8-magnitude earthquake occurred in Tambon Mae Na Toeng of Mae Hong Son's Pai district at 9.42 am. Its epicentre was one kilometre deep, located at latitude ... The Meteorological Department reported that a mild earthquake with a magnitude of 5.9 struck Myanmar on Sunday morning. The Earthquake Observation Division of the department stated that the quake occurred at a depth of 10 kilometres at 9.24 am Thailand time. The division said its epicentre was located at latitude 21.065° North and longitude 96 ... According to the National Center for Seismology (NCS), the first earthquake struck Myanmar at 11:50 AM (local time) at a depth of 10 kilometres, with coordinates recorded at Latitude 21.93 N and Longitude 96.07 E. The quake's epicentre was near Sagaing, a region known for seismic activity. A very strong earthquake of magnitude (7.7) Richter Scale with its epicenter inside Myanmar (about (20) kilometers northeast of Mandalay), latitude 22.09°N, longitude 96.23°E, depth(10 ... EARTHQUAKE NEWS A slight earthquake of magnitude (3.5) Richter Scale with its epicenter inside Myanmar (about (27) miles northeast of Mingin), latitude 22.96°N, longitude 94.74°E, depth (28) kilometers, about (83) miles west-southwest of Kanbalu seismological observatory was recorded at (11) hr (06) min (47) sec M.S.T on 14 th April, 2025.\", name='duckduckgo_search', id='2471bb5a-9769-494b-ad9e-5cd9781210e1', tool_call_id='call_p9fm'),\n",
       "  AIMessage(content=\"Here is the latest news about earthquakes in Myanmar, including their locations and magnitudes:\\n\\n1. **Earthquake in Mae Hong Son's Pai District**  \\n   - **Magnitude**: 1.8  \\n   - **Location**: Tambon Mae Na Toeng, Pai District  \\n   - **Epicentre**: 1 kilometre deep  \\n   - **Time**: 9:42 AM  \\n\\n2. **Earthquake in Myanmar (Sagaing Region)**  \\n   - **Magnitude**: 5.9  \\n   - **Depth**: 10 kilometres  \\n   - **Epicentre**: Latitude 21.065° North, Longitude 96...  \\n   - **Time**: 9:24 AM (Thailand time)  \\n\\n3. **Earthquake near Sagaing**  \\n   - **Magnitude**: Unspecified  \\n   - **Depth**: 10 kilometres  \\n   - **Epicentre**: Latitude 21.93° N, Longitude 96.07° E  \\n   - **Time**: 11:50 AM (local time)  \\n\\n4. **Strong Earthquake in Mandalay Region**  \\n   - **Magnitude**: 7.7 Richter Scale  \\n   - **Epicentre**: 20 kilometres northeast of Mandalay  \\n   - **Location**: Latitude 22.09°N, Longitude 96.23°E  \\n   - **Depth**: 10 kilometres  \\n\\n5. **Earthquake near Mingin**  \\n   - **Magnitude**: 3.5 Richter Scale  \\n   - **Epicentre**: 27 miles northeast of Mingin  \\n   - **Location**: Latitude 22.96°N, Longitude 94.74°E  \\n   - **Depth**: 28 kilometres  \\n   - **Time**: 11:06:47 M.S.T on April 14, 2025  \\n\\nLet me know if you'd like more details!\", additional_kwargs={}, response_metadata={'token_usage': {'completion_tokens': 747, 'prompt_tokens': 652, 'total_tokens': 1399, 'completion_time': 2.716363636, 'prompt_time': 0.050561512, 'queue_time': 0.213674671, 'total_time': 2.766925148}, 'model_name': 'deepseek-r1-distill-llama-70b', 'system_fingerprint': 'fp_454c494f52', 'finish_reason': 'stop', 'logprobs': None}, id='run-e73dfad4-41e9-4bc0-9f31-183dd7867671-0', usage_metadata={'input_tokens': 652, 'output_tokens': 747, 'total_tokens': 1399})]}"
      ]
     },
     "execution_count": 9,
     "metadata": {},
     "output_type": "execute_result"
    }
   ],
   "source": [
    "result"
   ]
  },
  {
   "cell_type": "code",
   "execution_count": 11,
   "metadata": {},
   "outputs": [
    {
     "data": {
      "text/plain": [
       "\"Here is the latest news about earthquakes in Myanmar, including their locations and magnitudes:\\n\\n1. **Earthquake in Mae Hong Son's Pai District**  \\n   - **Magnitude**: 1.8  \\n   - **Location**: Tambon Mae Na Toeng, Pai District  \\n   - **Epicentre**: 1 kilometre deep  \\n   - **Time**: 9:42 AM  \\n\\n2. **Earthquake in Myanmar (Sagaing Region)**  \\n   - **Magnitude**: 5.9  \\n   - **Depth**: 10 kilometres  \\n   - **Epicentre**: Latitude 21.065° North, Longitude 96...  \\n   - **Time**: 9:24 AM (Thailand time)  \\n\\n3. **Earthquake near Sagaing**  \\n   - **Magnitude**: Unspecified  \\n   - **Depth**: 10 kilometres  \\n   - **Epicentre**: Latitude 21.93° N, Longitude 96.07° E  \\n   - **Time**: 11:50 AM (local time)  \\n\\n4. **Strong Earthquake in Mandalay Region**  \\n   - **Magnitude**: 7.7 Richter Scale  \\n   - **Epicentre**: 20 kilometres northeast of Mandalay  \\n   - **Location**: Latitude 22.09°N, Longitude 96.23°E  \\n   - **Depth**: 10 kilometres  \\n\\n5. **Earthquake near Mingin**  \\n   - **Magnitude**: 3.5 Richter Scale  \\n   - **Epicentre**: 27 miles northeast of Mingin  \\n   - **Location**: Latitude 22.96°N, Longitude 94.74°E  \\n   - **Depth**: 28 kilometres  \\n   - **Time**: 11:06:47 M.S.T on April 14, 2025  \\n\\nLet me know if you'd like more details!\""
      ]
     },
     "execution_count": 11,
     "metadata": {},
     "output_type": "execute_result"
    }
   ],
   "source": [
    "final = result['messages'][-1].content\n",
    "final"
   ]
  },
  {
   "cell_type": "code",
   "execution_count": 2,
   "metadata": {},
   "outputs": [],
   "source": [
    "final = \"Here is the latest news about earthquakes in Myanmar, including their locations and magnitudes:\\n\\n1. **Earthquake in Mae Hong Son's Pai District**  \\n   - **Magnitude**: 1.8  \\n   - **Location**: Tambon Mae Na Toeng, Pai District  \\n   - **Epicentre**: 1 kilometre deep  \\n   - **Time**: 9:42 AM  \\n\\n2. **Earthquake in Myanmar (Sagaing Region)**  \\n   - **Magnitude**: 5.9  \\n   - **Depth**: 10 kilometres  \\n   - **Epicentre**: Latitude 21.065° North, Longitude 96...  \\n   - **Time**: 9:24 AM (Thailand time)  \\n\\n3. **Earthquake near Sagaing**  \\n   - **Magnitude**: Unspecified  \\n   - **Depth**: 10 kilometres  \\n   - **Epicentre**: Latitude 21.93° N, Longitude 96.07° E  \\n   - **Time**: 11:50 AM (local time)  \\n\\n4. **Strong Earthquake in Mandalay Region**  \\n   - **Magnitude**: 7.7 Richter Scale  \\n   - **Epicentre**: 20 kilometres northeast of Mandalay  \\n   - **Location**: Latitude 22.09°N, Longitude 96.23°E  \\n   - **Depth**: 10 kilometres  \\n\\n5. **Earthquake near Mingin**  \\n   - **Magnitude**: 3.5 Richter Scale  \\n   - **Epicentre**: 27 miles northeast of Mingin  \\n   - **Location**: Latitude 22.96°N, Longitude 94.74°E  \\n   - **Depth**: 28 kilometres  \\n   - **Time**: 11:06:47 M.S.T on April 14, 2025  \\n\\nLet me know if you'd like more details!\"\n"
   ]
  },
  {
   "cell_type": "code",
   "execution_count": 3,
   "metadata": {},
   "outputs": [
    {
     "data": {
      "text/plain": [
       "[('21.93° N', '96.07° E'), ('22.09°N', '96.23°E'), ('22.96°N', '94.74°E')]"
      ]
     },
     "execution_count": 3,
     "metadata": {},
     "output_type": "execute_result"
    }
   ],
   "source": [
    "import re \n",
    "\n",
    "pattern = r\"Latitude\\s([\\d.]+°\\s?[Nn]?),\\s*Longitude\\s([\\d.]+°\\s?[Ee]?)\"\n",
    "\n",
    "matches = re.findall(pattern, final)\n",
    "matches"
   ]
  },
  {
   "cell_type": "code",
   "execution_count": 4,
   "metadata": {},
   "outputs": [
    {
     "name": "stdout",
     "output_type": "stream",
     "text": [
      "Latitude: 21.93° N, Longitude: 96.07° E\n",
      "Latitude: 22.09°N, Longitude: 96.23°E\n",
      "Latitude: 22.96°N, Longitude: 94.74°E\n"
     ]
    }
   ],
   "source": [
    "for lat, lon in matches:\n",
    "    print(f\"Latitude: {lat}, Longitude: {lon}\")"
   ]
  },
  {
   "cell_type": "code",
   "execution_count": 5,
   "metadata": {},
   "outputs": [],
   "source": [
    "import folium\n",
    "import webbrowser\n",
    "\n",
    "coordinates = []\n",
    "for lat, lon in matches:\n",
    "    try:\n",
    "        clean_lat = float(re.sub(r\"[^\\d.]\", \"\", lat))\n",
    "        clean_lon = float(re.sub(r\"[^\\d.]\", \"\", lon))\n",
    "        coordinates.append((clean_lat, clean_lon))\n",
    "    except ValueError:\n",
    "        print(f\"Skipping invalid coordinates: {lat}, {lon}\")"
   ]
  },
  {
   "cell_type": "code",
   "execution_count": 6,
   "metadata": {},
   "outputs": [
    {
     "data": {
      "text/plain": [
       "[(21.93, 96.07), (22.09, 96.23), (22.96, 94.74)]"
      ]
     },
     "execution_count": 6,
     "metadata": {},
     "output_type": "execute_result"
    }
   ],
   "source": [
    "coordinates"
   ]
  },
  {
   "cell_type": "code",
   "execution_count": null,
   "metadata": {},
   "outputs": [
    {
     "ename": "AttributeError",
     "evalue": "module 'folium.map' has no attribute 'add_child'",
     "output_type": "error",
     "traceback": [
      "\u001b[31m---------------------------------------------------------------------------\u001b[39m",
      "\u001b[31mAttributeError\u001b[39m                            Traceback (most recent call last)",
      "\u001b[36mCell\u001b[39m\u001b[36m \u001b[39m\u001b[32mIn[8]\u001b[39m\u001b[32m, line 2\u001b[39m\n\u001b[32m      1\u001b[39m \u001b[38;5;28;01mfor\u001b[39;00m coords \u001b[38;5;129;01min\u001b[39;00m coordinates:\n\u001b[32m----> \u001b[39m\u001b[32m2\u001b[39m     \u001b[43mfolium\u001b[49m\u001b[43m.\u001b[49m\u001b[43mMarker\u001b[49m\u001b[43m(\u001b[49m\u001b[43mlocation\u001b[49m\u001b[43m=\u001b[49m\u001b[43m[\u001b[49m\u001b[43mcoords\u001b[49m\u001b[43m[\u001b[49m\u001b[32;43m0\u001b[39;49m\u001b[43m]\u001b[49m\u001b[43m,\u001b[49m\u001b[43m \u001b[49m\u001b[43mcoords\u001b[49m\u001b[43m[\u001b[49m\u001b[32;43m1\u001b[39;49m\u001b[43m]\u001b[49m\u001b[43m]\u001b[49m\u001b[43m)\u001b[49m\u001b[43m.\u001b[49m\u001b[43madd_to\u001b[49m\u001b[43m(\u001b[49m\u001b[43mfolium\u001b[49m\u001b[43m.\u001b[49m\u001b[43mmap\u001b[49m\u001b[43m)\u001b[49m\n",
      "\u001b[36mFile \u001b[39m\u001b[32md:\\Programming\\Myanmar_Weather_News\\myvenv\\Lib\\site-packages\\branca\\element.py:164\u001b[39m, in \u001b[36mElement.add_to\u001b[39m\u001b[34m(self, parent, name, index)\u001b[39m\n\u001b[32m    157\u001b[39m \u001b[38;5;28;01mdef\u001b[39;00m\u001b[38;5;250m \u001b[39m\u001b[34madd_to\u001b[39m(\n\u001b[32m    158\u001b[39m     \u001b[38;5;28mself\u001b[39m,\n\u001b[32m    159\u001b[39m     parent: \u001b[33m\"\u001b[39m\u001b[33mElement\u001b[39m\u001b[33m\"\u001b[39m,\n\u001b[32m    160\u001b[39m     name: Optional[\u001b[38;5;28mstr\u001b[39m] = \u001b[38;5;28;01mNone\u001b[39;00m,\n\u001b[32m    161\u001b[39m     index: Optional[\u001b[38;5;28mint\u001b[39m] = \u001b[38;5;28;01mNone\u001b[39;00m,\n\u001b[32m    162\u001b[39m ) -> \u001b[33m\"\u001b[39m\u001b[33mElement\u001b[39m\u001b[33m\"\u001b[39m:\n\u001b[32m    163\u001b[39m \u001b[38;5;250m    \u001b[39m\u001b[33;03m\"\"\"Add element to a parent.\"\"\"\u001b[39;00m\n\u001b[32m--> \u001b[39m\u001b[32m164\u001b[39m     \u001b[43mparent\u001b[49m\u001b[43m.\u001b[49m\u001b[43madd_child\u001b[49m(\u001b[38;5;28mself\u001b[39m, name=name, index=index)\n\u001b[32m    165\u001b[39m     \u001b[38;5;28;01mreturn\u001b[39;00m \u001b[38;5;28mself\u001b[39m\n",
      "\u001b[31mAttributeError\u001b[39m: module 'folium.map' has no attribute 'add_child'"
     ]
    }
   ],
   "source": [
    "for coords in coordinates:\n",
    "    folium.Marker(location=[coords[0], coords[1]]).add_to(folium_map)\n"
   ]
  },
  {
   "cell_type": "code",
   "execution_count": null,
   "metadata": {},
   "outputs": [],
   "source": []
  }
 ],
 "metadata": {
  "kernelspec": {
   "display_name": "myvenv",
   "language": "python",
   "name": "python3"
  },
  "language_info": {
   "codemirror_mode": {
    "name": "ipython",
    "version": 3
   },
   "file_extension": ".py",
   "mimetype": "text/x-python",
   "name": "python",
   "nbconvert_exporter": "python",
   "pygments_lexer": "ipython3",
   "version": "3.12.7"
  }
 },
 "nbformat": 4,
 "nbformat_minor": 2
}
